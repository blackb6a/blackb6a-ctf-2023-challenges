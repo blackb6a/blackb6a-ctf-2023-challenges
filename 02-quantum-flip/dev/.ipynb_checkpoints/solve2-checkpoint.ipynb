{
 "cells": [
  {
   "cell_type": "code",
   "execution_count": 1,
   "id": "0d0845f9",
   "metadata": {},
   "outputs": [],
   "source": [
    "import re\n",
    "import glob\n",
    "import hashlib\n",
    "from tqdm import tqdm, trange\n",
    "\n",
    "from Crypto.Cipher import AES\n",
    "from Crypto.Util.Padding import pad, unpad"
   ]
  },
  {
   "cell_type": "code",
   "execution_count": 2,
   "id": "e7c7e907",
   "metadata": {},
   "outputs": [],
   "source": [
    "EMPTY = set()\n",
    "state = None\n",
    "\n",
    "def add(v1, v2):\n",
    "    return [x ^^ y for x, y in zip(v1, v2)]\n",
    "\n",
    "def int64_to_vec(x):\n",
    "    return vector(GF(2), [(x >> i) & 1 for i in range(64)])\n",
    "\n",
    "def vec_to_int64(x):\n",
    "    return sum(ZZ(x.get(i)) << i for i in range(64))\n",
    "\n",
    "def _lshift_vec(vec, k):\n",
    "    return [EMPTY] * k + list(vec)[:-k]\n",
    "\n",
    "def _rshift_vec(vec, k):\n",
    "    return list(vec)[k:] + [EMPTY] * k\n",
    "\n",
    "def _mask_mask(vec, mask):\n",
    "    _mask = int64_to_vec(mask)\n",
    "    return [vec[i] if k else EMPTY for i, k in enumerate(_mask)]\n",
    "\n",
    "def _mask_const(term, const):\n",
    "    _mask = int64_to_vec(const)\n",
    "    return [term if k else EMPTY for k in _mask]\n",
    "\n",
    "def _process_vec(y):\n",
    "    y = add(y, _mask_mask(_rshift_vec(y, 29), 0x5555555555555555))\n",
    "    y = add(y, _mask_mask(_lshift_vec(y, 17), 0x71d67fffeda60000))\n",
    "    y = add(y, _mask_mask(_lshift_vec(y, 37), 0xfff7eee000000000))\n",
    "    y = add(y, _rshift_vec(y, 43))\n",
    "    return y"
   ]
  },
  {
   "cell_type": "code",
   "execution_count": 3,
   "id": "3b6b62e7",
   "metadata": {},
   "outputs": [],
   "source": [
    "const = 0xb5026f5aa96619e9"
   ]
  },
  {
   "cell_type": "code",
   "execution_count": 4,
   "id": "b3a56687",
   "metadata": {},
   "outputs": [],
   "source": [
    "def twist():\n",
    "    global state\n",
    "    print(\"[+] twist()\", flush=True)\n",
    "    for i in range(312):\n",
    "        # print(\"[*]\", state[i], state[(i + 1) % 312], flush=True)\n",
    "        # y = _mask_mask(state[(i + 1) % 312], lower) + _mask_mask(state[i], upper)\n",
    "        state[i] = state[(i + 1) % 312][1:31] + state[i][31:] + [EMPTY]\n",
    "        state[i] = add(state[i], state[(i + 156) % 312])\n",
    "        state[i] = add(state[i], _mask_const(state[(i + 1) % 312][0], const))"
   ]
  },
  {
   "cell_type": "code",
   "execution_count": 5,
   "id": "15714165",
   "metadata": {},
   "outputs": [
    {
     "name": "stdout",
     "output_type": "stream",
     "text": [
      "Loading data\n",
      "bits: [1, 0, 1, 1, 0, 1, 0, 0, 0, 0, 1, 0, 1, 0, 1, 1, 1, 0, 0, 1, 0, 1, 0, 0, 0, 1, 1, 0, 0, 1, 0, 1, 0, 1, 1, 0, 1, 1, 0, 1, 1, 0, 1, 0, 1, 1, 0, 1, 0, 1, 0, 1, 0, 1, 0, 1, 0, 1, 0, 0, 1, 0, 1, 0, 1, 0, 1, 0, 1, 0, 0, 0, 0, 0, 1, 0, 1, 0, 1, 1, 0, 0, 1, 0, 1, 0, 1, 0, 1, 1, 0, 1, 0, 1, 0, 1, 0, 0, 1, 1]\n"
     ]
    }
   ],
   "source": [
    "print(\"Loading data\", flush=True)\n",
    "with open(\"res\", \"r\") as fin:\n",
    "    bits = list(map(int, fin.readline().strip()))\n",
    "print(\"bits:\", bits[:100], flush=True)"
   ]
  },
  {
   "cell_type": "code",
   "execution_count": null,
   "id": "a99d77a4",
   "metadata": {},
   "outputs": [],
   "source": [
    "bstart = False\n",
    "for i, c in enumerate(bits):\n",
    "    if not bstart:\n",
    "        if c == '0':\n",
    "            print(i, '00')\n",
    "    else:\n",
    "        if c == '1':\n",
    "            print(i, '11')\n",
    "    bstart = bool(int(c))"
   ]
  },
  {
   "cell_type": "code",
   "execution_count": null,
   "id": "c73a08ca",
   "metadata": {},
   "outputs": [],
   "source": [
    "print(\"Initialising variables\", flush=True)\n",
    "state = [[{i * 64 + j} for j in range(64)] for i in range(312)]\n",
    "\n",
    "res_mat = Matrix(GF(2), 64, 312 * 64)\n",
    "coef_mat = Matrix(GF(2), len(bits) - 64, 312 * 64)\n",
    "rhs = vector(GF(2), len(bits) - 64, bits[64:])"
   ]
  },
  {
   "cell_type": "code",
   "execution_count": null,
   "id": "aec17263",
   "metadata": {
    "scrolled": true
   },
   "outputs": [],
   "source": [
    "print(\"Calculating coefficients\", flush=True)\n",
    "idx = 0\n",
    "for i in range(len(bits)):\n",
    "# for i in range(1000):\n",
    "    if idx == 0:\n",
    "        twist()\n",
    "\n",
    "    y = state[idx]\n",
    "    idx = (idx + 1) % 312\n",
    "\n",
    "    y = _process_vec(y)\n",
    "    msb = y[63]\n",
    "\n",
    "    if bits[i] is not None:\n",
    "        # calculated = sum(correct_coef[k] for k in msb) % 2\n",
    "        # print(f\"[{i:<5}]\", calculated, \"==\", bits[i], flush=True)\n",
    "        # assert calculated == bits[i]\n",
    "\n",
    "        if idx == 0:\n",
    "            msb_s = str(msb)\n",
    "            print(f\"[{i:<5}] {msb_s[:20]}...{msb_s[-20:]} == {bits[i]}\", flush=True)\n",
    "    \n",
    "    if bits[i] is not None:\n",
    "        # extract coefficients from msb\n",
    "        for k in msb:\n",
    "            coef_mat[i - 64, k] = 1\n",
    "    else:\n",
    "        for k in msb:\n",
    "            res_mat[i, k] = 1\n",
    "\n",
    "print(\"Done!\")"
   ]
  },
  {
   "cell_type": "code",
   "execution_count": null,
   "id": "8dfc2b09",
   "metadata": {},
   "outputs": [],
   "source": [
    "# print(\"TESTING\")\n",
    "# correct_recover = ''.join(map(str, rhs[64:1000]))\n",
    "# our_recover = ''.join(map(str, (coef_mat * correct_coef)[64:1000]))\n",
    "# print(\"Correct:\", correct_recover)\n",
    "# print(\" We got:\", our_recover)\n",
    "# assert correct_recover == our_recover"
   ]
  },
  {
   "cell_type": "code",
   "execution_count": null,
   "id": "cb41607c",
   "metadata": {},
   "outputs": [],
   "source": [
    "print(\"Started solving equations...\", flush=True)\n",
    "\n",
    "res = coef_mat.solve_right(rhs)\n",
    "print(\"solution:\", res, flush=True)\n",
    "\n",
    "ker = coef_mat.right_kernel()\n",
    "print(\"kernel:\", ker, flush=True)"
   ]
  },
  {
   "cell_type": "code",
   "execution_count": null,
   "id": "35c3fc8d",
   "metadata": {},
   "outputs": [],
   "source": [
    "print(coef_mat.dimensions())"
   ]
  },
  {
   "cell_type": "code",
   "execution_count": null,
   "id": "0f07dc3c",
   "metadata": {},
   "outputs": [],
   "source": [
    "basis = ker.basis()\n",
    "for vec in basis:\n",
    "    s = ''.join(map(str, vec))\n",
    "    print(s[:20], s[-20:], s.count('1'))"
   ]
  },
  {
   "cell_type": "code",
   "execution_count": null,
   "id": "1c095970",
   "metadata": {},
   "outputs": [],
   "source": [
    "required = set()\n",
    "for vec in res_mat:\n",
    "    for idx in range(312 * 64):\n",
    "        if vec[idx] == 1:\n",
    "            required.add(idx)"
   ]
  },
  {
   "cell_type": "code",
   "execution_count": null,
   "id": "a869f257",
   "metadata": {},
   "outputs": [],
   "source": [
    "for vec in res_mat:\n",
    "    print([idx for idx in range(312 * 64) if vec[idx] == 1])"
   ]
  },
  {
   "cell_type": "code",
   "execution_count": null,
   "id": "477105df",
   "metadata": {},
   "outputs": [],
   "source": [
    "basis = list(basis)\n",
    "basis = [vec for vec in basis if len(set(idx for idx in range(len(vec)) if vec[idx]) & required) > 0]\n",
    "for vec in basis:\n",
    "    s = ''.join(map(str, vec))\n",
    "    print(s[:20], s[-20:], s.count('1'))"
   ]
  },
  {
   "cell_type": "code",
   "execution_count": null,
   "id": "fe233f77",
   "metadata": {},
   "outputs": [],
   "source": [
    "def AES_decrypt(key, iv, ct):\n",
    "    key = hashlib.md5(key).digest()\n",
    "    iv = hashlib.md5(iv).digest()\n",
    "    cipher = AES.new(key=key, iv=iv, mode=AES.MODE_CBC)\n",
    "    msg = cipher.decrypt(ct)\n",
    "    try:\n",
    "        return unpad(msg, 16).decode()\n",
    "    except ValueError:\n",
    "        return\n",
    "\n",
    "for _null in span(basis):\n",
    "    _sol = res + _null\n",
    "    _recovered = res_mat * _sol\n",
    "    key = ''.join(map(str, _recovered))[::-1]\n",
    "    key = int(key, 2).to_bytes(len(key) // 8, 'big')\n",
    "    print(AES_decrypt(key, iv, ct))"
   ]
  },
  {
   "cell_type": "code",
   "execution_count": null,
   "id": "53d0c2c6",
   "metadata": {},
   "outputs": [],
   "source": []
  }
 ],
 "metadata": {
  "kernelspec": {
   "display_name": "SageMath 9.6",
   "language": "sage",
   "name": "sagemath-9.6"
  },
  "language_info": {
   "codemirror_mode": {
    "name": "ipython",
    "version": 3
   },
   "file_extension": ".py",
   "mimetype": "text/x-python",
   "name": "python",
   "nbconvert_exporter": "python",
   "pygments_lexer": "ipython3",
   "version": "3.10.3"
  },
  "vscode": {
   "interpreter": {
    "hash": "397704579725e15f5c7cb49fe5f0341eb7531c82d19f2c29d197e8b64ab5776b"
   }
  }
 },
 "nbformat": 4,
 "nbformat_minor": 5
}
