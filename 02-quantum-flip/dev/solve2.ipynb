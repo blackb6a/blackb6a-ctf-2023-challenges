{
 "cells": [
  {
   "cell_type": "code",
   "execution_count": 1,
   "id": "0d0845f9",
   "metadata": {},
   "outputs": [],
   "source": [
    "import re\n",
    "import glob\n",
    "import hashlib\n",
    "from tqdm import tqdm, trange\n",
    "\n",
    "from Crypto.Cipher import AES\n",
    "from Crypto.Util.Padding import pad, unpad"
   ]
  },
  {
   "cell_type": "code",
   "execution_count": 41,
   "id": "e7c7e907",
   "metadata": {},
   "outputs": [],
   "source": [
    "EMPTY = np.array([False] * (312 * 64), dtype=bool)\n",
    "state = None\n",
    "\n",
    "def add(v1, v2):\n",
    "    return [x ^^ y for x, y in zip(v1, v2)]\n",
    "\n",
    "def _lshift_vec(vec, k):\n",
    "    return [EMPTY] * k + list(vec)[:-k]\n",
    "\n",
    "def _rshift_vec(vec, k):\n",
    "    return list(vec)[k:] + [EMPTY] * k\n",
    "\n",
    "def _mask_mask(vec, mask):\n",
    "    res = []\n",
    "    for i in range(64):\n",
    "        k = (mask >> i) & 1\n",
    "        if k:\n",
    "            res.append(vec[i])\n",
    "        else:\n",
    "            res.append(EMPTY)\n",
    "    return res\n",
    "\n",
    "def _mask_const(term, const):\n",
    "    res = []\n",
    "    for i in range(64):\n",
    "        if (const >> i) & 1:\n",
    "            res.append(term)\n",
    "        else:\n",
    "            res.append(EMPTY)\n",
    "    return res\n",
    "\n",
    "def _process_vec(y):\n",
    "    y = add(y, _mask_mask(_rshift_vec(y, 29), 0x5555555555555555))\n",
    "    y = add(y, _mask_mask(_lshift_vec(y, 17), 0x71d67fffeda60000))\n",
    "    y = add(y, _mask_mask(_lshift_vec(y, 37), 0xfff7eee000000000))\n",
    "    y = add(y, _rshift_vec(y, 43))\n",
    "    return y"
   ]
  },
  {
   "cell_type": "code",
   "execution_count": 3,
   "id": "3b6b62e7",
   "metadata": {},
   "outputs": [],
   "source": [
    "const = 0xb5026f5aa96619e9"
   ]
  },
  {
   "cell_type": "code",
   "execution_count": 19,
   "id": "b3a56687",
   "metadata": {},
   "outputs": [],
   "source": [
    "def twist():\n",
    "    global state\n",
    "    # print(\"[+] twist()\", flush=True)\n",
    "    for i in range(312):\n",
    "        # print(\"[*]\", state[i], state[(i + 1) % 312], flush=True)\n",
    "        # y = _mask_mask(state[(i + 1) % 312], lower) + _mask_mask(state[i], upper)\n",
    "        state[i] = state[(i + 1) % 312][1:31] + state[i][31:] + [EMPTY]\n",
    "        state[i] = add(state[i], state[(i + 156) % 312])\n",
    "        state[i] = add(state[i], _mask_const(state[(i + 1) % 312][0], const))"
   ]
  },
  {
   "cell_type": "code",
   "execution_count": 5,
   "id": "15714165",
   "metadata": {},
   "outputs": [
    {
     "name": "stdout",
     "output_type": "stream",
     "text": [
      "Loading data\n",
      "bits: [1, 0, 1, 1, 0, 1, 0, 0, 0, 0, 1, 0, 1, 0, 1, 1, 1, 0, 0, 1, 0, 1, 0, 0, 0, 1, 1, 0, 0, 1, 0, 1, 0, 1, 1, 0, 1, 1, 0, 1, 1, 0, 1, 0, 1, 1, 0, 1, 0, 1, 0, 1, 0, 1, 0, 1, 0, 1, 0, 0, 1, 0, 1, 0, 1, 0, 1, 0, 1, 0, 0, 0, 0, 0, 1, 0, 1, 0, 1, 1, 0, 0, 1, 0, 1, 0, 1, 0, 1, 1, 0, 1, 0, 1, 0, 1, 0, 0, 1, 1]\n"
     ]
    }
   ],
   "source": [
    "print(\"Loading data\", flush=True)\n",
    "with open(\"res\", \"r\") as fin:\n",
    "    bits = list(map(int, fin.readline().strip()))\n",
    "print(\"bits:\", bits[:100], flush=True)"
   ]
  },
  {
   "cell_type": "code",
   "execution_count": 13,
   "id": "a99d77a4",
   "metadata": {},
   "outputs": [],
   "source": [
    "bstart = False\n",
    "dt = {}\n",
    "for i, c in enumerate(bits):\n",
    "    if not bstart:\n",
    "        if c == 0:\n",
    "            dt[i] = 0\n",
    "    else:\n",
    "        if c == 1:\n",
    "            dt[i] = 1\n",
    "    bstart = bool(int(c))"
   ]
  },
  {
   "cell_type": "code",
   "execution_count": null,
   "id": "aec17263",
   "metadata": {
    "scrolled": true
   },
   "outputs": [
    {
     "name": "stdout",
     "output_type": "stream",
     "text": [
      "Initialising variables\n",
      "len(dt) = 11962\n",
      "Calculating coefficients\n",
      "[56, 64, 74, 91, 9993, 10010, 10039, 10047]\n",
      "[46, 63, 64, 90, 10009, 10029, 10046]\n",
      "[*] cnt = 100 / 11962 , rank = 200 , took 2.858980999999858 seconds\n",
      "[*] cnt = 200 / 11962 , rank = 400 , took 5.621541999999863 seconds\n",
      "[*] cnt = 300 / 11962 , rank = 600 , took 7.548411000000215 seconds\n",
      "[*] cnt = 400 / 11962 , rank = 800 , took 10.392158999999992 seconds\n",
      "[*] cnt = 500 / 11962 , rank = 1000 , took 12.304619000000002 seconds\n",
      "[*] cnt = 600 / 11962 , rank = 1200 , took 15.064030000000002 seconds\n",
      "[*] cnt = 700 / 11962 , rank = 1400 , took 17.884378000000197 seconds\n",
      "[*] cnt = 800 / 11962 , rank = 1600 , took 19.707887000000028 seconds\n",
      "[*] cnt = 900 / 11962 , rank = 1800 , took 22.400462999999945 seconds\n",
      "[*] cnt = 1000 / 11962 , rank = 2000 , took 24.253646000000117 seconds\n",
      "[*] cnt = 1100 / 11962 , rank = 2200 , took 26.97199899999987 seconds\n",
      "[*] cnt = 1200 / 11962 , rank = 2400 , took 29.871228999999857 seconds\n",
      "[*] cnt = 1300 / 11962 , rank = 2600 , took 31.927228000000014 seconds\n",
      "[*] cnt = 1400 / 11962 , rank = 2800 , took 34.936341000000084 seconds\n",
      "[*] cnt = 1500 / 11962 , rank = 3000 , took 36.99499000000014 seconds\n",
      "[*] cnt = 1600 / 11962 , rank = 3200 , took 39.92033399999991 seconds\n",
      "[*] cnt = 1700 / 11962 , rank = 3400 , took 43.00548600000002 seconds\n",
      "[*] cnt = 1800 / 11962 , rank = 3600 , took 45.04846799999996 seconds\n",
      "[*] cnt = 1900 / 11962 , rank = 3800 , took 48.08935599999995 seconds\n",
      "[*] cnt = 2000 / 11962 , rank = 4000 , took 50.20335000000023 seconds\n",
      "[*] cnt = 2100 / 11962 , rank = 4200 , took 53.289556000000175 seconds\n",
      "[*] cnt = 2200 / 11962 , rank = 4400 , took 56.389398000000256 seconds\n",
      "[*] cnt = 2300 / 11962 , rank = 4600 , took 59.50666799999999 seconds\n",
      "[*] cnt = 2400 / 11962 , rank = 4800 , took 61.72803500000009 seconds\n",
      "[*] cnt = 2500 / 11962 , rank = 5000 , took 63.97665400000005 seconds\n",
      "[*] cnt = 2600 / 11962 , rank = 5200 , took 67.15728100000024 seconds\n",
      "[*] cnt = 2700 / 11962 , rank = 5400 , took 70.36426699999993 seconds\n",
      "[*] cnt = 2800 / 11962 , rank = 5600 , took 72.76320200000009 seconds\n",
      "[*] cnt = 2900 / 11962 , rank = 5800 , took 76.00332800000024 seconds\n",
      "[*] cnt = 3000 / 11962 , rank = 6000 , took 78.3455640000002 seconds\n",
      "[*] cnt = 3100 / 11962 , rank = 6200 , took 81.53863200000023 seconds\n",
      "[*] cnt = 3200 / 11962 , rank = 6400 , took 84.72603299999992 seconds\n",
      "[*] cnt = 3300 / 11962 , rank = 6600 , took 87.95320700000002 seconds\n",
      "[*] cnt = 3400 / 11962 , rank = 6800 , took 90.44737799999984 seconds\n",
      "[*] cnt = 3500 / 11962 , rank = 7000 , took 93.8215580000001 seconds\n",
      "[*] cnt = 3600 / 11962 , rank = 7200 , took 96.30553000000009 seconds\n",
      "[*] cnt = 3700 / 11962 , rank = 7400 , took 99.74187200000006 seconds\n",
      "[*] cnt = 3800 / 11962 , rank = 7600 , took 102.16305800000009 seconds\n",
      "[*] cnt = 3900 / 11962 , rank = 7800 , took 105.5391840000002 seconds\n",
      "[*] cnt = 4000 / 11962 , rank = 8000 , took 108.88799100000006 seconds\n",
      "[*] cnt = 4100 / 11962 , rank = 8200 , took 111.57838700000002 seconds\n",
      "[*] cnt = 4200 / 11962 , rank = 8400 , took 115.32925800000021 seconds\n",
      "[*] cnt = 4300 / 11962 , rank = 8600 , took 118.08426899999995 seconds\n",
      "[*] cnt = 4400 / 11962 , rank = 8800 , took 121.82854899999984 seconds\n",
      "[*] cnt = 4500 / 11962 , rank = 9000 , took 125.52238799999986 seconds\n",
      "[*] cnt = 4600 / 11962 , rank = 9200 , took 128.25941999999986 seconds\n",
      "[*] cnt = 4700 / 11962 , rank = 9400 , took 131.81360500000028 seconds\n",
      "[*] cnt = 4800 / 11962 , rank = 9600 , took 134.689257 seconds\n",
      "[*] cnt = 4900 / 11962 , rank = 9800 , took 138.48715500000026 seconds\n",
      "[*] cnt = 5000 / 11962 , rank = 10000 , took 141.4608760000001 seconds\n",
      "[*] cnt = 5100 / 11962 , rank = 10200 , took 145.3592349999999 seconds\n",
      "[*] cnt = 5200 / 11962 , rank = 10400 , took 149.46679700000004 seconds\n",
      "[*] cnt = 5300 / 11962 , rank = 10600 , took 152.6686319999999 seconds\n",
      "[*] cnt = 5400 / 11962 , rank = 10800 , took 156.85055599999987 seconds\n",
      "[*] cnt = 5500 / 11962 , rank = 11000 , took 160.93458800000008 seconds\n",
      "[*] cnt = 5600 / 11962 , rank = 11200 , took 165.22413899999992 seconds\n",
      "[*] cnt = 5700 / 11962 , rank = 11400 , took 168.4951799999999 seconds\n",
      "[*] cnt = 5800 / 11962 , rank = 11600 , took 172.73312699999997 seconds\n",
      "[*] cnt = 5900 / 11962 , rank = 11800 , took 177.27908400000024 seconds\n",
      "[*] cnt = 6000 / 11962 , rank = 12000 , took 181.28778499999999 seconds\n",
      "[*] cnt = 6100 / 11962 , rank = 12200 , took 186.61009999999987 seconds\n",
      "[*] cnt = 6200 / 11962 , rank = 12400 , took 190.00700000000006 seconds\n",
      "[*] cnt = 6300 / 11962 , rank = 12600 , took 194.1932139999999 seconds\n",
      "[*] cnt = 6400 / 11962 , rank = 12800 , took 198.30257800000027 seconds\n",
      "[*] cnt = 6500 / 11962 , rank = 13000 , took 201.53255900000022 seconds\n",
      "[*] cnt = 6600 / 11962 , rank = 13200 , took 205.8060700000001 seconds\n",
      "[*] cnt = 6700 / 11962 , rank = 13400 , took 209.23219000000017 seconds\n",
      "[*] cnt = 6800 / 11962 , rank = 13600 , took 213.97660499999984 seconds\n",
      "[*] cnt = 6900 / 11962 , rank = 13800 , took 217.7313119999999 seconds\n",
      "[*] cnt = 7000 / 11962 , rank = 14000 , took 222.21305299999995 seconds\n",
      "[*] cnt = 7100 / 11962 , rank = 14200 , took 225.99314400000003 seconds\n",
      "[*] cnt = 7200 / 11962 , rank = 14400 , took 230.67498100000012 seconds\n",
      "[*] cnt = 7300 / 11962 , rank = 14600 , took 235.45216100000016 seconds\n",
      "[*] cnt = 7400 / 11962 , rank = 14800 , took 239.32730200000015 seconds\n",
      "[*] cnt = 7500 / 11962 , rank = 15000 , took 245.05756100000008 seconds\n",
      "[*] cnt = 7600 / 11962 , rank = 15200 , took 252.31368599999996 seconds\n",
      "[*] cnt = 7700 / 11962 , rank = 15400 , took 257.4646090000001 seconds\n"
     ]
    }
   ],
   "source": [
    "import copy\n",
    "import numpy as np\n",
    "from tqdm import trange\n",
    "from time import process_time\n",
    "\n",
    "print(\"Initialising variables\", flush=True)\n",
    "state = []\n",
    "for i in range(312):\n",
    "    tmp = []\n",
    "    for j in range(64):\n",
    "        _tmp = copy.deepcopy(EMPTY)\n",
    "        _tmp[i * 64 + j] = True\n",
    "        tmp.append(_tmp)\n",
    "    state.append(tmp)\n",
    "\n",
    "coef_mat = Matrix(GF(2), len(dt) * 2, 312 * 64)\n",
    "rhs = vector(GF(2), len(dt) * 2)\n",
    "\n",
    "print(f'{len(dt) = }')\n",
    "\n",
    "print(\"Calculating coefficients\", flush=True)\n",
    "idx = 0\n",
    "\n",
    "cnt = 0\n",
    "start_time = process_time()\n",
    "\n",
    "for i in range(len(bits)):\n",
    "    if idx == 0:\n",
    "        twist()\n",
    "\n",
    "    if i in dt or i == 0:\n",
    "        y = state[idx]\n",
    "        y = _process_vec(y)\n",
    "        msb1, msb2 = y[63], y[62]\n",
    "        \n",
    "        if i == 0:\n",
    "            print([j for j in range(312 * 64) if msb1[j]])\n",
    "            print([j for j in range(312 * 64) if msb2[j]])\n",
    "            idx = (idx + 1) % 312\n",
    "            continue\n",
    "    \n",
    "        # extract coefficients from msb1\n",
    "        rhs[cnt * 2] = dt[i]\n",
    "        for j in range(312 * 64):\n",
    "            if msb1[j]:\n",
    "                coef_mat[cnt * 2, j] = 1\n",
    "        \n",
    "        # extract coefficients from msb2\n",
    "        rhs[cnt * 2 + 1] = dt[i]\n",
    "        for j in range(312 * 64):\n",
    "            if msb2[j]:\n",
    "                coef_mat[cnt * 2 + 1, j] = 1\n",
    "        \n",
    "        cnt += 1\n",
    "        if cnt % 100 == 0:\n",
    "            print(\"[*] cnt =\", cnt, \"/\", len(dt), \", rank =\", coef_mat.rank(), \", took\", process_time() - start_time, \"seconds\")\n",
    "\n",
    "    idx = (idx + 1) % 312\n",
    "\n",
    "print(\"Done!\")"
   ]
  },
  {
   "cell_type": "code",
   "execution_count": null,
   "id": "8dfc2b09",
   "metadata": {},
   "outputs": [],
   "source": [
    "# print(\"TESTING\")\n",
    "# correct_recover = ''.join(map(str, rhs[64:1000]))\n",
    "# our_recover = ''.join(map(str, (coef_mat * correct_coef)[64:1000]))\n",
    "# print(\"Correct:\", correct_recover)\n",
    "# print(\" We got:\", our_recover)\n",
    "# assert correct_recover == our_recover"
   ]
  },
  {
   "cell_type": "code",
   "execution_count": null,
   "id": "cb41607c",
   "metadata": {},
   "outputs": [],
   "source": [
    "print(\"Started solving equations...\", flush=True)\n",
    "\n",
    "res = coef_mat.solve_right(rhs)\n",
    "print(\"solution:\", res, flush=True)\n",
    "\n",
    "ker = coef_mat.right_kernel()\n",
    "print(\"kernel:\", ker, flush=True)"
   ]
  },
  {
   "cell_type": "code",
   "execution_count": null,
   "id": "35c3fc8d",
   "metadata": {},
   "outputs": [],
   "source": [
    "print(coef_mat.dimensions())"
   ]
  },
  {
   "cell_type": "code",
   "execution_count": null,
   "id": "0f07dc3c",
   "metadata": {},
   "outputs": [],
   "source": [
    "basis = ker.basis()\n",
    "for vec in basis:\n",
    "    s = ''.join(map(str, vec))\n",
    "    print(s[:20], s[-20:], s.count('1'))"
   ]
  },
  {
   "cell_type": "code",
   "execution_count": null,
   "id": "1c095970",
   "metadata": {},
   "outputs": [],
   "source": [
    "required = set()\n",
    "for vec in res_mat:\n",
    "    for idx in range(312 * 64):\n",
    "        if vec[idx] == 1:\n",
    "            required.add(idx)"
   ]
  },
  {
   "cell_type": "code",
   "execution_count": null,
   "id": "a869f257",
   "metadata": {},
   "outputs": [],
   "source": [
    "for vec in res_mat:\n",
    "    print([idx for idx in range(312 * 64) if vec[idx] == 1])"
   ]
  },
  {
   "cell_type": "code",
   "execution_count": null,
   "id": "477105df",
   "metadata": {},
   "outputs": [],
   "source": [
    "basis = list(basis)\n",
    "basis = [vec for vec in basis if len(set(idx for idx in range(len(vec)) if vec[idx]) & required) > 0]\n",
    "for vec in basis:\n",
    "    s = ''.join(map(str, vec))\n",
    "    print(s[:20], s[-20:], s.count('1'))"
   ]
  },
  {
   "cell_type": "code",
   "execution_count": null,
   "id": "fe233f77",
   "metadata": {},
   "outputs": [],
   "source": [
    "def AES_decrypt(key, iv, ct):\n",
    "    key = hashlib.md5(key).digest()\n",
    "    iv = hashlib.md5(iv).digest()\n",
    "    cipher = AES.new(key=key, iv=iv, mode=AES.MODE_CBC)\n",
    "    msg = cipher.decrypt(ct)\n",
    "    try:\n",
    "        return unpad(msg, 16).decode()\n",
    "    except ValueError:\n",
    "        return\n",
    "\n",
    "for _null in span(basis):\n",
    "    _sol = res + _null\n",
    "    _recovered = res_mat * _sol\n",
    "    key = ''.join(map(str, _recovered))[::-1]\n",
    "    key = int(key, 2).to_bytes(len(key) // 8, 'big')\n",
    "    print(AES_decrypt(key, iv, ct))"
   ]
  },
  {
   "cell_type": "code",
   "execution_count": null,
   "id": "53d0c2c6",
   "metadata": {},
   "outputs": [],
   "source": []
  }
 ],
 "metadata": {
  "kernelspec": {
   "display_name": "SageMath 9.6",
   "language": "sage",
   "name": "sagemath-9.6"
  },
  "language_info": {
   "codemirror_mode": {
    "name": "ipython",
    "version": 3
   },
   "file_extension": ".py",
   "mimetype": "text/x-python",
   "name": "python",
   "nbconvert_exporter": "python",
   "pygments_lexer": "ipython3",
   "version": "3.10.3"
  },
  "vscode": {
   "interpreter": {
    "hash": "397704579725e15f5c7cb49fe5f0341eb7531c82d19f2c29d197e8b64ab5776b"
   }
  }
 },
 "nbformat": 4,
 "nbformat_minor": 5
}
